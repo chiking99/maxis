{
 "cells": [
  {
   "cell_type": "code",
   "execution_count": 1,
   "source": [
    "import pandas as pd\r\n",
    "import numpy as np\r\n",
    "import matplotlib.pyplot as plt\r\n",
    "import seaborn as sns"
   ],
   "outputs": [],
   "metadata": {}
  },
  {
   "cell_type": "code",
   "execution_count": 2,
   "source": [
    "flight_train=pd.read_csv('train_1.csv')\r\n",
    "flight_test=pd.read_csv('test_1.csv')"
   ],
   "outputs": [],
   "metadata": {}
  },
  {
   "cell_type": "code",
   "execution_count": 3,
   "source": [
    "#Label the categorical variable with id (number)\r\n",
    "carrier_id= pd.Series(range(len(flight_train['unique_carrier'].unique())),index=flight_train['unique_carrier'].unique())\r\n",
    "origin_id= pd.Series(range(len(flight_train['origin'].unique())),index=flight_train['origin'].unique())\r\n",
    "destination_id= pd.Series(range(len(flight_train['destination'].unique())),index=flight_train['destination'].unique())"
   ],
   "outputs": [],
   "metadata": {}
  },
  {
   "cell_type": "code",
   "execution_count": 4,
   "source": [
    "def preprocess(dataset):\r\n",
    "    #To replace the text with ID\r\n",
    "    dataset['unique_carrier'] =dataset['unique_carrier'].map(carrier_id)\r\n",
    "    dataset['origin'] =dataset['origin'].map(origin_id)\r\n",
    "    dataset['destination'] =dataset['destination'].map(destination_id)\r\n",
    "    #To reformat the data\r\n",
    "    dataset['month']= dataset['month'].str.replace('M-','').astype(int)\r\n",
    "    dataset['day_of_month']= dataset['day_of_month'].str.replace('D-','').astype(int)\r\n",
    "    dataset['day_of_week']= dataset['day_of_week'].str.replace('W-','').astype(int)\r\n",
    "    #Extract the hour from departure_time\r\n",
    "    dataset['departure_time'] = dataset['departure_time'].apply(\r\n",
    "    lambda x:\r\n",
    "    str(x).zfill(4)\r\n",
    "    ).apply(\r\n",
    "    lambda x:\r\n",
    "    int(x[:2])\r\n",
    "    )\r\n",
    "    #Make the is_delayed column become numerical variable and move to last column\r\n",
    "    if 'is_delayed' in dataset:\r\n",
    "        dataset['is_delayed'] = dataset['is_delayed'].astype('category').cat.codes #0 is NO, 1 is YES\r\n",
    "        last_column = dataset.pop('is_delayed')\r\n",
    "        dataset.insert(len(dataset.columns),'is_delayed', last_column)\r\n",
    "    return dataset"
   ],
   "outputs": [],
   "metadata": {}
  },
  {
   "cell_type": "code",
   "execution_count": 5,
   "source": [
    "preprocess(flight_train)\r\n"
   ],
   "outputs": [
    {
     "output_type": "execute_result",
     "data": {
      "text/plain": [
       "       unique_carrier  origin  destination  departure_time  month  \\\n",
       "0                   0       0            0              11     12   \n",
       "1                   1       1            1              23      3   \n",
       "2                   2       2            2              20      1   \n",
       "3                   3       3            3              16     10   \n",
       "4                   2       4            4              11      5   \n",
       "...               ...     ...          ...             ...    ...   \n",
       "89995               5      22           66              20      6   \n",
       "89996               4      38           27               6     12   \n",
       "89997              16     153           66              15      1   \n",
       "89998              14      12          192              13     12   \n",
       "89999              11     104          106               8      1   \n",
       "\n",
       "       day_of_month  day_of_week  distance  is_delayed  \n",
       "0                16            5      1587           0  \n",
       "1                22            3      2454           0  \n",
       "2                14            5      1437           1  \n",
       "3                14            6       328           0  \n",
       "4                18            3       957           0  \n",
       "...             ...          ...       ...         ...  \n",
       "89995            20            1       448           0  \n",
       "89996            16            6       618           0  \n",
       "89997            31            2        83           0  \n",
       "89998             6            2       146           0  \n",
       "89999            21            5       163           0  \n",
       "\n",
       "[90000 rows x 9 columns]"
      ],
      "text/html": [
       "<div>\n",
       "<style scoped>\n",
       "    .dataframe tbody tr th:only-of-type {\n",
       "        vertical-align: middle;\n",
       "    }\n",
       "\n",
       "    .dataframe tbody tr th {\n",
       "        vertical-align: top;\n",
       "    }\n",
       "\n",
       "    .dataframe thead th {\n",
       "        text-align: right;\n",
       "    }\n",
       "</style>\n",
       "<table border=\"1\" class=\"dataframe\">\n",
       "  <thead>\n",
       "    <tr style=\"text-align: right;\">\n",
       "      <th></th>\n",
       "      <th>unique_carrier</th>\n",
       "      <th>origin</th>\n",
       "      <th>destination</th>\n",
       "      <th>departure_time</th>\n",
       "      <th>month</th>\n",
       "      <th>day_of_month</th>\n",
       "      <th>day_of_week</th>\n",
       "      <th>distance</th>\n",
       "      <th>is_delayed</th>\n",
       "    </tr>\n",
       "  </thead>\n",
       "  <tbody>\n",
       "    <tr>\n",
       "      <th>0</th>\n",
       "      <td>0</td>\n",
       "      <td>0</td>\n",
       "      <td>0</td>\n",
       "      <td>11</td>\n",
       "      <td>12</td>\n",
       "      <td>16</td>\n",
       "      <td>5</td>\n",
       "      <td>1587</td>\n",
       "      <td>0</td>\n",
       "    </tr>\n",
       "    <tr>\n",
       "      <th>1</th>\n",
       "      <td>1</td>\n",
       "      <td>1</td>\n",
       "      <td>1</td>\n",
       "      <td>23</td>\n",
       "      <td>3</td>\n",
       "      <td>22</td>\n",
       "      <td>3</td>\n",
       "      <td>2454</td>\n",
       "      <td>0</td>\n",
       "    </tr>\n",
       "    <tr>\n",
       "      <th>2</th>\n",
       "      <td>2</td>\n",
       "      <td>2</td>\n",
       "      <td>2</td>\n",
       "      <td>20</td>\n",
       "      <td>1</td>\n",
       "      <td>14</td>\n",
       "      <td>5</td>\n",
       "      <td>1437</td>\n",
       "      <td>1</td>\n",
       "    </tr>\n",
       "    <tr>\n",
       "      <th>3</th>\n",
       "      <td>3</td>\n",
       "      <td>3</td>\n",
       "      <td>3</td>\n",
       "      <td>16</td>\n",
       "      <td>10</td>\n",
       "      <td>14</td>\n",
       "      <td>6</td>\n",
       "      <td>328</td>\n",
       "      <td>0</td>\n",
       "    </tr>\n",
       "    <tr>\n",
       "      <th>4</th>\n",
       "      <td>2</td>\n",
       "      <td>4</td>\n",
       "      <td>4</td>\n",
       "      <td>11</td>\n",
       "      <td>5</td>\n",
       "      <td>18</td>\n",
       "      <td>3</td>\n",
       "      <td>957</td>\n",
       "      <td>0</td>\n",
       "    </tr>\n",
       "    <tr>\n",
       "      <th>...</th>\n",
       "      <td>...</td>\n",
       "      <td>...</td>\n",
       "      <td>...</td>\n",
       "      <td>...</td>\n",
       "      <td>...</td>\n",
       "      <td>...</td>\n",
       "      <td>...</td>\n",
       "      <td>...</td>\n",
       "      <td>...</td>\n",
       "    </tr>\n",
       "    <tr>\n",
       "      <th>89995</th>\n",
       "      <td>5</td>\n",
       "      <td>22</td>\n",
       "      <td>66</td>\n",
       "      <td>20</td>\n",
       "      <td>6</td>\n",
       "      <td>20</td>\n",
       "      <td>1</td>\n",
       "      <td>448</td>\n",
       "      <td>0</td>\n",
       "    </tr>\n",
       "    <tr>\n",
       "      <th>89996</th>\n",
       "      <td>4</td>\n",
       "      <td>38</td>\n",
       "      <td>27</td>\n",
       "      <td>6</td>\n",
       "      <td>12</td>\n",
       "      <td>16</td>\n",
       "      <td>6</td>\n",
       "      <td>618</td>\n",
       "      <td>0</td>\n",
       "    </tr>\n",
       "    <tr>\n",
       "      <th>89997</th>\n",
       "      <td>16</td>\n",
       "      <td>153</td>\n",
       "      <td>66</td>\n",
       "      <td>15</td>\n",
       "      <td>1</td>\n",
       "      <td>31</td>\n",
       "      <td>2</td>\n",
       "      <td>83</td>\n",
       "      <td>0</td>\n",
       "    </tr>\n",
       "    <tr>\n",
       "      <th>89998</th>\n",
       "      <td>14</td>\n",
       "      <td>12</td>\n",
       "      <td>192</td>\n",
       "      <td>13</td>\n",
       "      <td>12</td>\n",
       "      <td>6</td>\n",
       "      <td>2</td>\n",
       "      <td>146</td>\n",
       "      <td>0</td>\n",
       "    </tr>\n",
       "    <tr>\n",
       "      <th>89999</th>\n",
       "      <td>11</td>\n",
       "      <td>104</td>\n",
       "      <td>106</td>\n",
       "      <td>8</td>\n",
       "      <td>1</td>\n",
       "      <td>21</td>\n",
       "      <td>5</td>\n",
       "      <td>163</td>\n",
       "      <td>0</td>\n",
       "    </tr>\n",
       "  </tbody>\n",
       "</table>\n",
       "<p>90000 rows × 9 columns</p>\n",
       "</div>"
      ]
     },
     "metadata": {},
     "execution_count": 5
    }
   ],
   "metadata": {}
  },
  {
   "cell_type": "code",
   "execution_count": 6,
   "source": [
    "preprocess(flight_test)"
   ],
   "outputs": [
    {
     "output_type": "execute_result",
     "data": {
      "text/plain": [
       "      unique_carrier  origin  destination  departure_time  month  \\\n",
       "0                  0      54            0              16      7   \n",
       "1                  3     101          156               9     12   \n",
       "2                  3      64           65              16     12   \n",
       "3                  5      10           45              14      2   \n",
       "4                  3      25           17               6     11   \n",
       "...              ...     ...          ...             ...    ...   \n",
       "9995              15      78            4               7      2   \n",
       "9996               8      19           39              20      6   \n",
       "9997               6      68           38              11      7   \n",
       "9998               6      87           17              20     10   \n",
       "9999               8      61           11               6      3   \n",
       "\n",
       "      day_of_month  day_of_week  distance  \n",
       "0               24            7       952  \n",
       "1               31            7       323  \n",
       "2               14            4      1056  \n",
       "3               11            5      1557  \n",
       "4               10            4       368  \n",
       "...            ...          ...       ...  \n",
       "9995            12            7       349  \n",
       "9996             8            3      1034  \n",
       "9997             8            6        36  \n",
       "9998            31            1       926  \n",
       "9999            24            5       871  \n",
       "\n",
       "[10000 rows x 8 columns]"
      ],
      "text/html": [
       "<div>\n",
       "<style scoped>\n",
       "    .dataframe tbody tr th:only-of-type {\n",
       "        vertical-align: middle;\n",
       "    }\n",
       "\n",
       "    .dataframe tbody tr th {\n",
       "        vertical-align: top;\n",
       "    }\n",
       "\n",
       "    .dataframe thead th {\n",
       "        text-align: right;\n",
       "    }\n",
       "</style>\n",
       "<table border=\"1\" class=\"dataframe\">\n",
       "  <thead>\n",
       "    <tr style=\"text-align: right;\">\n",
       "      <th></th>\n",
       "      <th>unique_carrier</th>\n",
       "      <th>origin</th>\n",
       "      <th>destination</th>\n",
       "      <th>departure_time</th>\n",
       "      <th>month</th>\n",
       "      <th>day_of_month</th>\n",
       "      <th>day_of_week</th>\n",
       "      <th>distance</th>\n",
       "    </tr>\n",
       "  </thead>\n",
       "  <tbody>\n",
       "    <tr>\n",
       "      <th>0</th>\n",
       "      <td>0</td>\n",
       "      <td>54</td>\n",
       "      <td>0</td>\n",
       "      <td>16</td>\n",
       "      <td>7</td>\n",
       "      <td>24</td>\n",
       "      <td>7</td>\n",
       "      <td>952</td>\n",
       "    </tr>\n",
       "    <tr>\n",
       "      <th>1</th>\n",
       "      <td>3</td>\n",
       "      <td>101</td>\n",
       "      <td>156</td>\n",
       "      <td>9</td>\n",
       "      <td>12</td>\n",
       "      <td>31</td>\n",
       "      <td>7</td>\n",
       "      <td>323</td>\n",
       "    </tr>\n",
       "    <tr>\n",
       "      <th>2</th>\n",
       "      <td>3</td>\n",
       "      <td>64</td>\n",
       "      <td>65</td>\n",
       "      <td>16</td>\n",
       "      <td>12</td>\n",
       "      <td>14</td>\n",
       "      <td>4</td>\n",
       "      <td>1056</td>\n",
       "    </tr>\n",
       "    <tr>\n",
       "      <th>3</th>\n",
       "      <td>5</td>\n",
       "      <td>10</td>\n",
       "      <td>45</td>\n",
       "      <td>14</td>\n",
       "      <td>2</td>\n",
       "      <td>11</td>\n",
       "      <td>5</td>\n",
       "      <td>1557</td>\n",
       "    </tr>\n",
       "    <tr>\n",
       "      <th>4</th>\n",
       "      <td>3</td>\n",
       "      <td>25</td>\n",
       "      <td>17</td>\n",
       "      <td>6</td>\n",
       "      <td>11</td>\n",
       "      <td>10</td>\n",
       "      <td>4</td>\n",
       "      <td>368</td>\n",
       "    </tr>\n",
       "    <tr>\n",
       "      <th>...</th>\n",
       "      <td>...</td>\n",
       "      <td>...</td>\n",
       "      <td>...</td>\n",
       "      <td>...</td>\n",
       "      <td>...</td>\n",
       "      <td>...</td>\n",
       "      <td>...</td>\n",
       "      <td>...</td>\n",
       "    </tr>\n",
       "    <tr>\n",
       "      <th>9995</th>\n",
       "      <td>15</td>\n",
       "      <td>78</td>\n",
       "      <td>4</td>\n",
       "      <td>7</td>\n",
       "      <td>2</td>\n",
       "      <td>12</td>\n",
       "      <td>7</td>\n",
       "      <td>349</td>\n",
       "    </tr>\n",
       "    <tr>\n",
       "      <th>9996</th>\n",
       "      <td>8</td>\n",
       "      <td>19</td>\n",
       "      <td>39</td>\n",
       "      <td>20</td>\n",
       "      <td>6</td>\n",
       "      <td>8</td>\n",
       "      <td>3</td>\n",
       "      <td>1034</td>\n",
       "    </tr>\n",
       "    <tr>\n",
       "      <th>9997</th>\n",
       "      <td>6</td>\n",
       "      <td>68</td>\n",
       "      <td>38</td>\n",
       "      <td>11</td>\n",
       "      <td>7</td>\n",
       "      <td>8</td>\n",
       "      <td>6</td>\n",
       "      <td>36</td>\n",
       "    </tr>\n",
       "    <tr>\n",
       "      <th>9998</th>\n",
       "      <td>6</td>\n",
       "      <td>87</td>\n",
       "      <td>17</td>\n",
       "      <td>20</td>\n",
       "      <td>10</td>\n",
       "      <td>31</td>\n",
       "      <td>1</td>\n",
       "      <td>926</td>\n",
       "    </tr>\n",
       "    <tr>\n",
       "      <th>9999</th>\n",
       "      <td>8</td>\n",
       "      <td>61</td>\n",
       "      <td>11</td>\n",
       "      <td>6</td>\n",
       "      <td>3</td>\n",
       "      <td>24</td>\n",
       "      <td>5</td>\n",
       "      <td>871</td>\n",
       "    </tr>\n",
       "  </tbody>\n",
       "</table>\n",
       "<p>10000 rows × 8 columns</p>\n",
       "</div>"
      ]
     },
     "metadata": {},
     "execution_count": 6
    }
   ],
   "metadata": {}
  },
  {
   "cell_type": "code",
   "execution_count": 7,
   "source": [
    "#number of data that is delayed\r\n",
    "flight_train[flight_train['is_delayed']==1]['is_delayed'].count()"
   ],
   "outputs": [
    {
     "output_type": "execute_result",
     "data": {
      "text/plain": [
       "17140"
      ]
     },
     "metadata": {},
     "execution_count": 7
    }
   ],
   "metadata": {}
  },
  {
   "cell_type": "code",
   "execution_count": 8,
   "source": [
    "flight_train.corr()['is_delayed']"
   ],
   "outputs": [
    {
     "output_type": "execute_result",
     "data": {
      "text/plain": [
       "unique_carrier    0.001208\n",
       "origin           -0.036850\n",
       "destination       0.019010\n",
       "departure_time    0.243987\n",
       "month             0.017121\n",
       "day_of_month      0.024551\n",
       "day_of_week       0.010713\n",
       "distance         -0.003695\n",
       "is_delayed        1.000000\n",
       "Name: is_delayed, dtype: float64"
      ]
     },
     "metadata": {},
     "execution_count": 8
    }
   ],
   "metadata": {}
  },
  {
   "cell_type": "code",
   "execution_count": 9,
   "source": [
    "avg_month=flight_train.groupby(['month']).mean()\r\n",
    "fig = plt.figure()\r\n",
    "ax = fig.add_axes([0,0,1,1])\r\n",
    "ax.bar(avg_month.index,avg_month['is_delayed'])\r\n",
    "plt.show()"
   ],
   "outputs": [
    {
     "output_type": "display_data",
     "data": {
      "text/plain": [
       "<Figure size 432x288 with 1 Axes>"
      ],
      "image/png": "[encoded data removed]"
     },
     "metadata": {
      "needs_background": "light"
     }
    }
   ],
   "metadata": {}
  },
  {
   "cell_type": "code",
   "execution_count": 10,
   "source": [
    "plt.figure(figsize = (20, 6))\r\n",
    "sns.countplot(flight_train['month'])\r\n",
    "plt.xticks(size = 15)\r\n",
    "plt.yticks(size = 15)\r\n",
    "plt.xlabel(\"Month\", size = 20)\r\n",
    "plt.ylabel(\"Frequency\", size = 20)\r\n",
    "plt.show()"
   ],
   "outputs": [
    {
     "output_type": "stream",
     "name": "stderr",
     "text": [
      "C:\\Users\\USER\\anaconda3\\lib\\site-packages\\seaborn\\_decorators.py:43: FutureWarning: Pass the following variable as a keyword arg: x. From version 0.12, the only valid positional argument will be `data`, and passing other arguments without an explicit keyword will result in an error or misinterpretation.\n",
      "  FutureWarning\n"
     ]
    },
    {
     "output_type": "display_data",
     "data": {
      "text/plain": [
       "<Figure size 1440x432 with 1 Axes>"
      ],
      "image/png": "[encoded data removed]"
     },
     "metadata": {
      "needs_background": "light"
     }
    }
   ],
   "metadata": {}
  },
  {
   "cell_type": "code",
   "execution_count": 11,
   "source": [
    "plt.figure(figsize = (20, 6))\r\n",
    "sns.countplot(flight_train[flight_train['is_delayed']==1]['month'])\r\n",
    "plt.xticks(size = 15)\r\n",
    "plt.yticks(size = 15)\r\n",
    "plt.xlabel(\"Month\", size = 20)\r\n",
    "plt.ylabel(\"Frequency\", size = 20)\r\n",
    "plt.show()"
   ],
   "outputs": [
    {
     "output_type": "stream",
     "name": "stderr",
     "text": [
      "C:\\Users\\USER\\anaconda3\\lib\\site-packages\\seaborn\\_decorators.py:43: FutureWarning: Pass the following variable as a keyword arg: x. From version 0.12, the only valid positional argument will be `data`, and passing other arguments without an explicit keyword will result in an error or misinterpretation.\n",
      "  FutureWarning\n"
     ]
    },
    {
     "output_type": "display_data",
     "data": {
      "text/plain": [
       "<Figure size 1440x432 with 1 Axes>"
      ],
      "image/png": "[encoded data removed]"
     },
     "metadata": {
      "needs_background": "light"
     }
    }
   ],
   "metadata": {}
  },
  {
   "cell_type": "code",
   "execution_count": 12,
   "source": [
    "avg_day_of_week=flight_train.groupby(['day_of_week']).mean()\r\n",
    "fig = plt.figure()\r\n",
    "ax = fig.add_axes([0,0,1,1])\r\n",
    "ax.bar(avg_day_of_week.index,avg_day_of_week['is_delayed'])\r\n",
    "plt.show()"
   ],
   "outputs": [
    {
     "output_type": "display_data",
     "data": {
      "text/plain": [
       "<Figure size 432x288 with 1 Axes>"
      ],
      "image/png": "[encoded data removed]"
     },
     "metadata": {
      "needs_background": "light"
     }
    }
   ],
   "metadata": {}
  },
  {
   "cell_type": "code",
   "execution_count": 13,
   "source": [
    "plt.figure(figsize = (20, 6))\r\n",
    "sns.countplot(flight_train['day_of_week'])\r\n",
    "plt.xticks(size = 15)\r\n",
    "plt.yticks(size = 15)\r\n",
    "plt.xlabel(\"Departure Time\", size = 20)\r\n",
    "plt.ylabel(\"Frequency\", size = 20)\r\n",
    "plt.show()"
   ],
   "outputs": [
    {
     "output_type": "stream",
     "name": "stderr",
     "text": [
      "C:\\Users\\USER\\anaconda3\\lib\\site-packages\\seaborn\\_decorators.py:43: FutureWarning: Pass the following variable as a keyword arg: x. From version 0.12, the only valid positional argument will be `data`, and passing other arguments without an explicit keyword will result in an error or misinterpretation.\n",
      "  FutureWarning\n"
     ]
    },
    {
     "output_type": "display_data",
     "data": {
      "text/plain": [
       "<Figure size 1440x432 with 1 Axes>"
      ],
      "image/png": "[encoded data removed]"
     },
     "metadata": {
      "needs_background": "light"
     }
    }
   ],
   "metadata": {}
  },
  {
   "cell_type": "code",
   "execution_count": 14,
   "source": [
    "plt.figure(figsize = (20, 6))\r\n",
    "sns.countplot(flight_train[flight_train['is_delayed']==1]['day_of_week'])\r\n",
    "plt.xticks(size = 15)\r\n",
    "plt.yticks(size = 15)\r\n",
    "plt.xlabel(\"Departure Time\", size = 20)\r\n",
    "plt.ylabel(\"Frequency\", size = 20)\r\n",
    "plt.show()"
   ],
   "outputs": [
    {
     "output_type": "stream",
     "name": "stderr",
     "text": [
      "C:\\Users\\USER\\anaconda3\\lib\\site-packages\\seaborn\\_decorators.py:43: FutureWarning: Pass the following variable as a keyword arg: x. From version 0.12, the only valid positional argument will be `data`, and passing other arguments without an explicit keyword will result in an error or misinterpretation.\n",
      "  FutureWarning\n"
     ]
    },
    {
     "output_type": "display_data",
     "data": {
      "text/plain": [
       "<Figure size 1440x432 with 1 Axes>"
      ],
      "image/png": "[encoded data removed]"
     },
     "metadata": {
      "needs_background": "light"
     }
    }
   ],
   "metadata": {}
  },
  {
   "cell_type": "code",
   "execution_count": 15,
   "source": [
    "avg_carrier=flight_train.groupby(['unique_carrier']).mean()\r\n",
    "fig = plt.figure()\r\n",
    "ax = fig.add_axes([0,0,1,1])\r\n",
    "ax.bar(avg_carrier.index,avg_carrier['is_delayed'])\r\n",
    "plt.show()"
   ],
   "outputs": [
    {
     "output_type": "display_data",
     "data": {
      "text/plain": [
       "<Figure size 432x288 with 1 Axes>"
      ],
      "image/png": "[encoded data removed]"
     },
     "metadata": {
      "needs_background": "light"
     }
    }
   ],
   "metadata": {}
  },
  {
   "cell_type": "code",
   "execution_count": 16,
   "source": [
    "plt.figure(figsize = (20, 6))\r\n",
    "sns.countplot(flight_train['unique_carrier'])\r\n",
    "plt.xticks(size = 15)\r\n",
    "plt.yticks(size = 15)\r\n",
    "plt.xlabel(\"Uique Carrier\", size = 20)\r\n",
    "plt.ylabel(\"Frequency\", size = 20)\r\n",
    "plt.show()"
   ],
   "outputs": [
    {
     "output_type": "stream",
     "name": "stderr",
     "text": [
      "C:\\Users\\USER\\anaconda3\\lib\\site-packages\\seaborn\\_decorators.py:43: FutureWarning: Pass the following variable as a keyword arg: x. From version 0.12, the only valid positional argument will be `data`, and passing other arguments without an explicit keyword will result in an error or misinterpretation.\n",
      "  FutureWarning\n"
     ]
    },
    {
     "output_type": "display_data",
     "data": {
      "text/plain": [
       "<Figure size 1440x432 with 1 Axes>"
      ],
      "image/png": "[encoded data removed]"
     },
     "metadata": {
      "needs_background": "light"
     }
    }
   ],
   "metadata": {}
  },
  {
   "cell_type": "code",
   "execution_count": 17,
   "source": [
    "plt.figure(figsize = (20, 6))\r\n",
    "sns.countplot(flight_train[flight_train['is_delayed']==1]['unique_carrier'])\r\n",
    "plt.xticks(size = 15)\r\n",
    "plt.yticks(size = 15)\r\n",
    "plt.xlabel(\"Departure Time\", size = 20)\r\n",
    "plt.ylabel(\"Frequency\", size = 20)\r\n",
    "plt.show()"
   ],
   "outputs": [
    {
     "output_type": "stream",
     "name": "stderr",
     "text": [
      "C:\\Users\\USER\\anaconda3\\lib\\site-packages\\seaborn\\_decorators.py:43: FutureWarning: Pass the following variable as a keyword arg: x. From version 0.12, the only valid positional argument will be `data`, and passing other arguments without an explicit keyword will result in an error or misinterpretation.\n",
      "  FutureWarning\n"
     ]
    },
    {
     "output_type": "display_data",
     "data": {
      "text/plain": [
       "<Figure size 1440x432 with 1 Axes>"
      ],
      "image/png": "[encoded data removed]"
     },
     "metadata": {
      "needs_background": "light"
     }
    }
   ],
   "metadata": {}
  },
  {
   "cell_type": "code",
   "execution_count": 18,
   "source": [
    "avg_departure_time=flight_train.groupby(['departure_time']).mean()\r\n",
    "fig = plt.figure()\r\n",
    "ax = fig.add_axes([0,0,1,1])\r\n",
    "ax.bar(avg_departure_time.index,avg_departure_time['is_delayed'])\r\n",
    "plt.show()"
   ],
   "outputs": [
    {
     "output_type": "display_data",
     "data": {
      "text/plain": [
       "<Figure size 432x288 with 1 Axes>"
      ],
      "image/png": "[encoded data removed]"
     },
     "metadata": {
      "needs_background": "light"
     }
    }
   ],
   "metadata": {}
  },
  {
   "cell_type": "code",
   "execution_count": 19,
   "source": [
    "plt.figure(figsize = (20, 6))\r\n",
    "sns.countplot(flight_train['departure_time'])\r\n",
    "plt.xticks(size = 15)\r\n",
    "plt.yticks(size = 15)\r\n",
    "plt.xlabel(\"Departure Time\", size = 20)\r\n",
    "plt.ylabel(\"Frequency\", size = 20)\r\n",
    "plt.show()"
   ],
   "outputs": [
    {
     "output_type": "stream",
     "name": "stderr",
     "text": [
      "C:\\Users\\USER\\anaconda3\\lib\\site-packages\\seaborn\\_decorators.py:43: FutureWarning: Pass the following variable as a keyword arg: x. From version 0.12, the only valid positional argument will be `data`, and passing other arguments without an explicit keyword will result in an error or misinterpretation.\n",
      "  FutureWarning\n"
     ]
    },
    {
     "output_type": "display_data",
     "data": {
      "text/plain": [
       "<Figure size 1440x432 with 1 Axes>"
      ],
      "image/png": "[encoded data removed]"
     },
     "metadata": {
      "needs_background": "light"
     }
    }
   ],
   "metadata": {}
  },
  {
   "cell_type": "code",
   "execution_count": 20,
   "source": [
    "plt.figure(figsize = (20, 6))\r\n",
    "sns.countplot(flight_train[flight_train['is_delayed']==1]['departure_time'])\r\n",
    "plt.xticks(size = 15)\r\n",
    "plt.yticks(size = 15)\r\n",
    "plt.xlabel(\"Departure Time\", size = 20)\r\n",
    "plt.ylabel(\"Frequency\", size = 20)\r\n",
    "plt.show()"
   ],
   "outputs": [
    {
     "output_type": "stream",
     "name": "stderr",
     "text": [
      "C:\\Users\\USER\\anaconda3\\lib\\site-packages\\seaborn\\_decorators.py:43: FutureWarning: Pass the following variable as a keyword arg: x. From version 0.12, the only valid positional argument will be `data`, and passing other arguments without an explicit keyword will result in an error or misinterpretation.\n",
      "  FutureWarning\n"
     ]
    },
    {
     "output_type": "display_data",
     "data": {
      "text/plain": [
       "<Figure size 1440x432 with 1 Axes>"
      ],
      "image/png": "[encoded data removed]"
     },
     "metadata": {
      "needs_background": "light"
     }
    }
   ],
   "metadata": {}
  },
  {
   "cell_type": "code",
   "execution_count": 21,
   "source": [
    "fig, axs = plt.subplots(1, 1,figsize =(10, 7), tight_layout = True)\r\n",
    "axs.hist(flight_train['distance'],bins=20)"
   ],
   "outputs": [
    {
     "output_type": "execute_result",
     "data": {
      "text/plain": [
       "(array([1.8140e+04, 2.3150e+04, 1.7195e+04, 1.1951e+04, 7.0290e+03,\n",
       "        3.0240e+03, 3.4620e+03, 1.7430e+03, 1.2410e+03, 1.8260e+03,\n",
       "        9.5900e+02, 1.0800e+02, 1.3000e+01, 2.7000e+01, 9.0000e+00,\n",
       "        4.5000e+01, 1.8000e+01, 3.1000e+01, 2.1000e+01, 8.0000e+00]),\n",
       " array([  31.  ,  277.55,  524.1 ,  770.65, 1017.2 , 1263.75, 1510.3 ,\n",
       "        1756.85, 2003.4 , 2249.95, 2496.5 , 2743.05, 2989.6 , 3236.15,\n",
       "        3482.7 , 3729.25, 3975.8 , 4222.35, 4468.9 , 4715.45, 4962.  ]),\n",
       " <BarContainer object of 20 artists>)"
      ]
     },
     "metadata": {},
     "execution_count": 21
    },
    {
     "output_type": "display_data",
     "data": {
      "text/plain": [
       "<Figure size 720x504 with 1 Axes>"
      ],
      "image/png": "[encoded data removed]"
     },
     "metadata": {
      "needs_background": "light"
     }
    }
   ],
   "metadata": {}
  },
  {
   "cell_type": "code",
   "execution_count": 22,
   "source": [
    "fig, axs = plt.subplots(1, 1,figsize =(10, 7), tight_layout = True)\r\n",
    "axs.hist(flight_train[flight_train['is_delayed']==1]['distance'],bins=20)"
   ],
   "outputs": [
    {
     "output_type": "execute_result",
     "data": {
      "text/plain": [
       "(array([3.150e+03, 4.439e+03, 3.588e+03, 2.307e+03, 1.383e+03, 6.050e+02,\n",
       "        6.650e+02, 3.290e+02, 2.230e+02, 2.830e+02, 1.360e+02, 1.100e+01,\n",
       "        3.000e+00, 3.000e+00, 0.000e+00, 2.000e+00, 2.000e+00, 8.000e+00,\n",
       "        2.000e+00, 1.000e+00]),\n",
       " array([  31.  ,  277.55,  524.1 ,  770.65, 1017.2 , 1263.75, 1510.3 ,\n",
       "        1756.85, 2003.4 , 2249.95, 2496.5 , 2743.05, 2989.6 , 3236.15,\n",
       "        3482.7 , 3729.25, 3975.8 , 4222.35, 4468.9 , 4715.45, 4962.  ]),\n",
       " <BarContainer object of 20 artists>)"
      ]
     },
     "metadata": {},
     "execution_count": 22
    },
    {
     "output_type": "display_data",
     "data": {
      "text/plain": [
       "<Figure size 720x504 with 1 Axes>"
      ],
      "image/png": "[encoded data removed]"
     },
     "metadata": {
      "needs_background": "light"
     }
    }
   ],
   "metadata": {}
  },
  {
   "cell_type": "code",
   "execution_count": 23,
   "source": [
    "from sklearn.model_selection import cross_val_score\r\n",
    "from sklearn.model_selection import RepeatedStratifiedKFold\r\n",
    "from sklearn.ensemble import RandomForestClassifier\r\n",
    "from sklearn.model_selection import cross_validate\r\n",
    "cv = RepeatedStratifiedKFold(n_splits=9, n_repeats=5, random_state=1)"
   ],
   "outputs": [],
   "metadata": {}
  },
  {
   "cell_type": "code",
   "execution_count": 24,
   "source": [
    "X = flight_train.iloc[:,:-1]\r\n",
    "y= flight_train['is_delayed']"
   ],
   "outputs": [],
   "metadata": {}
  },
  {
   "cell_type": "code",
   "execution_count": 25,
   "source": [
    "#Create randomforest classifier with k-fold cross-validation\r\n",
    "model_RF= RandomForestClassifier()\r\n",
    "scorings=['accuracy', 'f1', 'precision', 'recall']\r\n",
    "scores = cross_validate(model_RF,  X, y, scoring=scorings, cv=cv, n_jobs=-1, error_score='raise')\r\n",
    "\r\n",
    "mean_scores = {\r\n",
    "  key: np.mean(item) for key, item in scores.items()\r\n",
    "}\r\n",
    "mean_scores\r\n"
   ],
   "outputs": [
    {
     "output_type": "execute_result",
     "data": {
      "text/plain": [
       "{'fit_time': 29.741567839516534,\n",
       " 'score_time': 0.701495377222697,\n",
       " 'test_accuracy': 0.8170488888888892,\n",
       " 'test_f1': 0.1822087481803959,\n",
       " 'test_precision': 0.6128137385239235,\n",
       " 'test_recall': 0.10705962612516573}"
      ]
     },
     "metadata": {},
     "execution_count": 25
    }
   ],
   "metadata": {}
  },
  {
   "cell_type": "code",
   "execution_count": 26,
   "source": [
    "from sklearn.neighbors import KNeighborsClassifier\r\n",
    "#run K-Nearest Neighbors classifier with k from 3 to 25\r\n",
    "k=range(3,26)\r\n",
    "knn_train_accuracy=[] \r\n",
    "knn_dev_accuracy=[] \r\n",
    "for i in k: \r\n",
    "    model_knn=KNeighborsClassifier(n_neighbors=i)\r\n",
    "    knn_scores = cross_val_score(model_knn, X, y, scoring='accuracy', cv=cv, n_jobs=-1, error_score='raise')\r\n",
    "    knn_train_accuracy.append(np.mean(knn_scores))\r\n",
    "\r\n",
    "Data=pd.DataFrame({\"K\": k, \"Train Accuracy\" : knn_train_accuracy})\r\n",
    "print(Data)\r\n",
    "\r\n",
    "plt.plot(k,knn_train_accuracy,label=\"Train accuracy\")\r\n",
    "plt.title(\"Knn Train and Dev Accuracy\") \r\n",
    "plt.show()"
   ],
   "outputs": [
    {
     "output_type": "stream",
     "name": "stdout",
     "text": [
      "     K  Train Accuracy\n",
      "0    3        0.765269\n",
      "1    4        0.797480\n",
      "2    5        0.785033\n",
      "3    6        0.801389\n",
      "4    7        0.794338\n",
      "5    8        0.803576\n",
      "6    9        0.798947\n",
      "7   10        0.805260\n",
      "8   11        0.802191\n",
      "9   12        0.806822\n",
      "10  13        0.804736\n",
      "11  14        0.807622\n",
      "12  15        0.806378\n",
      "13  16        0.808224\n",
      "14  17        0.807433\n",
      "15  18        0.808744\n",
      "16  19        0.808360\n",
      "17  20        0.809093\n",
      "18  21        0.808818\n",
      "19  22        0.809300\n",
      "20  23        0.809087\n",
      "21  24        0.809369\n",
      "22  25        0.809242\n"
     ]
    },
    {
     "output_type": "display_data",
     "data": {
      "text/plain": [
       "<Figure size 432x288 with 1 Axes>"
      ],
      "image/png": "[encoded data removed]"
     },
     "metadata": {
      "needs_background": "light"
     }
    }
   ],
   "metadata": {}
  },
  {
   "cell_type": "code",
   "execution_count": 27,
   "source": [
    "# create K-Nearest Neighbors classifier with K=24\r\n",
    "model_knn=KNeighborsClassifier(n_neighbors=24) \r\n",
    "\r\n",
    "scorings=['accuracy', 'f1', 'precision', 'recall']\r\n",
    "knn_scores = cross_validate(model_knn,  X, y, scoring=scorings, cv=cv, n_jobs=-1, error_score='raise')\r\n",
    "mean_scores_knn = {\r\n",
    "  key: np.mean(item) for key, item in knn_scores.items()\r\n",
    "}\r\n",
    "mean_scores_knn"
   ],
   "outputs": [
    {
     "output_type": "execute_result",
     "data": {
      "text/plain": [
       "{'fit_time': 0.8092066182030572,\n",
       " 'score_time': 1.3380380153656006,\n",
       " 'test_accuracy': 0.809368888888889,\n",
       " 'test_f1': 0.011083480090547815,\n",
       " 'test_precision': 0.4669030152184752,\n",
       " 'test_recall': 0.005612558234142301}"
      ]
     },
     "metadata": {},
     "execution_count": 27
    }
   ],
   "metadata": {}
  },
  {
   "cell_type": "code",
   "execution_count": 28,
   "source": [
    "from sklearn.linear_model import LogisticRegression\r\n",
    "#create Logictic Regression model\r\n",
    "model_LR=LogisticRegression()\r\n",
    "scorings=['accuracy', 'f1', 'precision', 'recall']\r\n",
    "LR_scores = cross_validate(model_LR,  X, y, scoring=scorings, cv=cv, n_jobs=-1, error_score='raise')\r\n",
    "# report performance\r\n",
    "mean_scores_LR = {\r\n",
    "  key: np.mean(item) for key, item in LR_scores.items()\r\n",
    "}\r\n",
    "mean_scores_LR\r\n"
   ],
   "outputs": [
    {
     "output_type": "execute_result",
     "data": {
      "text/plain": [
       "{'fit_time': 1.644478538301256,\n",
       " 'score_time': 0.030718925264146595,\n",
       " 'test_accuracy': 0.8084600000000001,\n",
       " 'test_f1': 0.012388782711956804,\n",
       " 'test_precision': 0.35714364499266454,\n",
       " 'test_recall': 0.00638287861076189}"
      ]
     },
     "metadata": {},
     "execution_count": 28
    }
   ],
   "metadata": {}
  },
  {
   "cell_type": "code",
   "execution_count": 34,
   "source": [
    "model_RF.fit(X,y)"
   ],
   "outputs": [
    {
     "output_type": "execute_result",
     "data": {
      "text/plain": [
       "RandomForestClassifier()"
      ]
     },
     "metadata": {},
     "execution_count": 34
    }
   ],
   "metadata": {}
  },
  {
   "cell_type": "code",
   "execution_count": 35,
   "source": [
    "single_yhat=model_RF.predict([flight_test.iloc[1]])\r\n",
    "single_yhat"
   ],
   "outputs": [
    {
     "output_type": "execute_result",
     "data": {
      "text/plain": [
       "array([0], dtype=int8)"
      ]
     },
     "metadata": {},
     "execution_count": 35
    }
   ],
   "metadata": {}
  },
  {
   "cell_type": "code",
   "execution_count": 37,
   "source": [
    "batch_yhat=model_RF.predict(flight_test.iloc[:])\r\n",
    "batch_yhat"
   ],
   "outputs": [
    {
     "output_type": "execute_result",
     "data": {
      "text/plain": [
       "array([0, 0, 0, ..., 0, 1, 0], dtype=int8)"
      ]
     },
     "metadata": {},
     "execution_count": 37
    }
   ],
   "metadata": {}
  }
 ],
 "metadata": {
  "orig_nbformat": 4,
  "language_info": {
   "name": "python",
   "version": "3.7.7",
   "mimetype": "text/x-python",
   "codemirror_mode": {
    "name": "ipython",
    "version": 3
   },
   "pygments_lexer": "ipython3",
   "nbconvert_exporter": "python",
   "file_extension": ".py"
  },
  "kernelspec": {
   "name": "python3",
   "display_name": "Python 3.7.7 64-bit ('base': conda)"
  },
  "interpreter": {
   "hash": "42588fd11209419b7c81abe23e31a1d2101f60811b02170c268e57ebb57d5d9a"
  }
 },
 "nbformat": 4,
 "nbformat_minor": 2
}